{
  "nbformat": 4,
  "nbformat_minor": 0,
  "metadata": {
    "colab": {
      "name": "LinearRegression-Multi Variable.ipynb",
      "version": "0.3.2",
      "provenance": [],
      "include_colab_link": true
    },
    "kernelspec": {
      "name": "python3",
      "display_name": "Python 3"
    }
  },
  "cells": [
    {
      "cell_type": "markdown",
      "metadata": {
        "id": "view-in-github",
        "colab_type": "text"
      },
      "source": [
        "<a href=\"https://colab.research.google.com/github/sparc373/ML-Models/blob/master/LinearRegression_Multi_Variable.ipynb\" target=\"_parent\"><img src=\"https://colab.research.google.com/assets/colab-badge.svg\" alt=\"Open In Colab\"/></a>"
      ]
    },
    {
      "metadata": {
        "id": "zLPnzQw4YYjf",
        "colab_type": "code",
        "colab": {}
      },
      "cell_type": "code",
      "source": [
        "import pandas as pd\n",
        "from sklearn import linear_model"
      ],
      "execution_count": 0,
      "outputs": []
    },
    {
      "metadata": {
        "id": "ECefp1uUZea_",
        "colab_type": "code",
        "colab": {
          "base_uri": "https://localhost:8080/",
          "height": 233
        },
        "outputId": "dfa4134d-b695-46b6-d7e2-2167d95e3276"
      },
      "cell_type": "code",
      "source": [
        "df = pd.read_csv('Multi-linear-reg-house-price.csv')\n",
        "df"
      ],
      "execution_count": 3,
      "outputs": [
        {
          "output_type": "execute_result",
          "data": {
            "text/html": [
              "<div>\n",
              "<style scoped>\n",
              "    .dataframe tbody tr th:only-of-type {\n",
              "        vertical-align: middle;\n",
              "    }\n",
              "\n",
              "    .dataframe tbody tr th {\n",
              "        vertical-align: top;\n",
              "    }\n",
              "\n",
              "    .dataframe thead th {\n",
              "        text-align: right;\n",
              "    }\n",
              "</style>\n",
              "<table border=\"1\" class=\"dataframe\">\n",
              "  <thead>\n",
              "    <tr style=\"text-align: right;\">\n",
              "      <th></th>\n",
              "      <th>area</th>\n",
              "      <th>bedrooms</th>\n",
              "      <th>age</th>\n",
              "      <th>price</th>\n",
              "    </tr>\n",
              "  </thead>\n",
              "  <tbody>\n",
              "    <tr>\n",
              "      <th>0</th>\n",
              "      <td>2600</td>\n",
              "      <td>3.0</td>\n",
              "      <td>20</td>\n",
              "      <td>550000</td>\n",
              "    </tr>\n",
              "    <tr>\n",
              "      <th>1</th>\n",
              "      <td>3000</td>\n",
              "      <td>4.0</td>\n",
              "      <td>15</td>\n",
              "      <td>565000</td>\n",
              "    </tr>\n",
              "    <tr>\n",
              "      <th>2</th>\n",
              "      <td>3200</td>\n",
              "      <td>NaN</td>\n",
              "      <td>18</td>\n",
              "      <td>610000</td>\n",
              "    </tr>\n",
              "    <tr>\n",
              "      <th>3</th>\n",
              "      <td>3600</td>\n",
              "      <td>3.0</td>\n",
              "      <td>30</td>\n",
              "      <td>595000</td>\n",
              "    </tr>\n",
              "    <tr>\n",
              "      <th>4</th>\n",
              "      <td>4000</td>\n",
              "      <td>5.0</td>\n",
              "      <td>8</td>\n",
              "      <td>760000</td>\n",
              "    </tr>\n",
              "    <tr>\n",
              "      <th>5</th>\n",
              "      <td>4100</td>\n",
              "      <td>6.0</td>\n",
              "      <td>8</td>\n",
              "      <td>810000</td>\n",
              "    </tr>\n",
              "  </tbody>\n",
              "</table>\n",
              "</div>"
            ],
            "text/plain": [
              "   area  bedrooms  age    price\n",
              "0  2600       3.0    20  550000\n",
              "1  3000       4.0    15  565000\n",
              "2  3200       NaN    18  610000\n",
              "3  3600       3.0    30  595000\n",
              "4  4000       5.0     8  760000\n",
              "5  4100       6.0     8  810000"
            ]
          },
          "metadata": {
            "tags": []
          },
          "execution_count": 3
        }
      ]
    },
    {
      "metadata": {
        "id": "D3wgU_FzZy9P",
        "colab_type": "code",
        "colab": {
          "base_uri": "https://localhost:8080/",
          "height": 35
        },
        "outputId": "3150701e-7d91-4870-a84b-89bfd3a964d7"
      },
      "cell_type": "code",
      "source": [
        "import math\n",
        "bedrooms1 = math.floor(df.bedrooms.median())\n",
        "print(bedrooms1)"
      ],
      "execution_count": 18,
      "outputs": [
        {
          "output_type": "stream",
          "text": [
            "4\n"
          ],
          "name": "stdout"
        }
      ]
    },
    {
      "metadata": {
        "id": "DPAK0YVRa5jJ",
        "colab_type": "code",
        "colab": {
          "base_uri": "https://localhost:8080/",
          "height": 139
        },
        "outputId": "a8ab9914-d209-4c78-d96b-6f44c1598362"
      },
      "cell_type": "code",
      "source": [
        "df.bedrooms = df.bedrooms.fillna(bedrooms1)\n",
        "print(df.bedrooms)"
      ],
      "execution_count": 19,
      "outputs": [
        {
          "output_type": "stream",
          "text": [
            "0    3.0\n",
            "1    4.0\n",
            "2    4.0\n",
            "3    3.0\n",
            "4    5.0\n",
            "5    6.0\n",
            "Name: bedrooms, dtype: float64\n"
          ],
          "name": "stdout"
        }
      ]
    },
    {
      "metadata": {
        "id": "vULQoIl_bE_v",
        "colab_type": "code",
        "colab": {
          "base_uri": "https://localhost:8080/",
          "height": 139
        },
        "outputId": "2c81dcad-9d72-4f48-8931-3726002c2896"
      },
      "cell_type": "code",
      "source": [
        "print(df)"
      ],
      "execution_count": 20,
      "outputs": [
        {
          "output_type": "stream",
          "text": [
            "   area  bedrooms  age    price\n",
            "0  2600       3.0    20  550000\n",
            "1  3000       4.0    15  565000\n",
            "2  3200       4.0    18  610000\n",
            "3  3600       3.0    30  595000\n",
            "4  4000       5.0     8  760000\n",
            "5  4100       6.0     8  810000\n"
          ],
          "name": "stdout"
        }
      ]
    },
    {
      "metadata": {
        "id": "ZpQzgkpjbITk",
        "colab_type": "code",
        "colab": {
          "base_uri": "https://localhost:8080/",
          "height": 52
        },
        "outputId": "4e248ef0-c6bd-4302-8370-fe67c7b444f6"
      },
      "cell_type": "code",
      "source": [
        "reg = linear_model.LinearRegression()\n",
        "reg.fit(df[['area','bedrooms','age ']],df.price)"
      ],
      "execution_count": 23,
      "outputs": [
        {
          "output_type": "execute_result",
          "data": {
            "text/plain": [
              "LinearRegression(copy_X=True, fit_intercept=True, n_jobs=None,\n",
              "         normalize=False)"
            ]
          },
          "metadata": {
            "tags": []
          },
          "execution_count": 23
        }
      ]
    },
    {
      "metadata": {
        "id": "0WGvLFnqebB3",
        "colab_type": "code",
        "colab": {
          "base_uri": "https://localhost:8080/",
          "height": 35
        },
        "outputId": "ac7f25f2-9951-47c8-bd4c-bc012cf16a38"
      },
      "cell_type": "code",
      "source": [
        "reg.coef_"
      ],
      "execution_count": 24,
      "outputs": [
        {
          "output_type": "execute_result",
          "data": {
            "text/plain": [
              "array([  112.06244194, 23388.88007794, -3231.71790863])"
            ]
          },
          "metadata": {
            "tags": []
          },
          "execution_count": 24
        }
      ]
    },
    {
      "metadata": {
        "id": "bIV3ysLTeeAz",
        "colab_type": "code",
        "colab": {
          "base_uri": "https://localhost:8080/",
          "height": 35
        },
        "outputId": "ec692f43-f1f4-44f6-9b16-9b0eebe03884"
      },
      "cell_type": "code",
      "source": [
        "reg.intercept_"
      ],
      "execution_count": 25,
      "outputs": [
        {
          "output_type": "execute_result",
          "data": {
            "text/plain": [
              "221323.00186540396"
            ]
          },
          "metadata": {
            "tags": []
          },
          "execution_count": 25
        }
      ]
    },
    {
      "metadata": {
        "id": "GQ211Qy2elk6",
        "colab_type": "code",
        "colab": {
          "base_uri": "https://localhost:8080/",
          "height": 35
        },
        "outputId": "6f500f95-22b3-4be6-d617-1f548f6320ae"
      },
      "cell_type": "code",
      "source": [
        "reg.predict([[5000,3.0,10]])"
      ],
      "execution_count": 31,
      "outputs": [
        {
          "output_type": "execute_result",
          "data": {
            "text/plain": [
              "array([819484.67272357])"
            ]
          },
          "metadata": {
            "tags": []
          },
          "execution_count": 31
        }
      ]
    },
    {
      "metadata": {
        "id": "6cDIn0Are8HD",
        "colab_type": "code",
        "colab": {
          "base_uri": "https://localhost:8080/",
          "height": 260
        },
        "outputId": "936971e5-9f85-4238-9a50-4b9b8da25572"
      },
      "cell_type": "code",
      "source": [
        "print(\"Single variable formula is y=mx+b for Linear Reg for single variable\")\n",
        "print(\"Multi variable formula is mx will keep adding as per features like below\\n\")\n",
        "print(\"If data has 2 features or 2 independent variables then its y = m1x+m2x+b \\n\")\n",
        "print(\"Hence its y = m1x+m2x+......mnx+b\\n\")\n",
        "print(\"In this example its y = m1x+m2x+m3x+b, which is price = m1*area+m2*bedrooms+m3*age+b\\n\")\n",
        "print(\"M is coefeciant which coef_ and b is intercept which will be calculated as below to achive prediction\\n\")\n",
        "print(\" price = coef_*area+coef_*bedrooms+coef_*age+intercept and result is:- \\n\")\n",
        "112.06244194*5000 + 23388.88007794*3 + -3231.71790863*10 + 221323.00186540384"
      ],
      "execution_count": 30,
      "outputs": [
        {
          "output_type": "stream",
          "text": [
            "Single variable formula is y=mx+b for Linear Reg for single variable\n",
            "Multi variable formula is mx will keep adding as per features like below\n",
            "\n",
            "If data has 2 features or 2 independent variables then its y = m1x+m2x+b \n",
            "\n",
            "Hence its y = m1x+m2x+......mnx+b\n",
            "\n",
            "In this example its y = m1x+m2x+m3x+b, which is price = m1*area+m2*bedrooms+m3*age+b\n",
            "\n",
            "M is coefeciant which coef_ and b is intercept which will be calculated as below to achive prediction\n",
            "\n",
            " price = coef_*area+coef_*bedrooms+coef_*age+intercept and result is:- \n",
            "\n"
          ],
          "name": "stdout"
        },
        {
          "output_type": "execute_result",
          "data": {
            "text/plain": [
              "819484.6727129238"
            ]
          },
          "metadata": {
            "tags": []
          },
          "execution_count": 30
        }
      ]
    }
  ]
}